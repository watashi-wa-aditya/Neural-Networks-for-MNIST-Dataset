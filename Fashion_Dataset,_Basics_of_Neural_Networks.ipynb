{
  "nbformat": 4,
  "nbformat_minor": 0,
  "metadata": {
    "colab": {
      "name": "Fashion Dataset, Basics of Neural Networks.ipynb",
      "provenance": [],
      "authorship_tag": "ABX9TyOGlnfCIFT47jAi6+ab76ub",
      "include_colab_link": true
    },
    "kernelspec": {
      "name": "python3",
      "display_name": "Python 3"
    },
    "language_info": {
      "name": "python"
    }
  },
  "cells": [
    {
      "cell_type": "markdown",
      "metadata": {
        "id": "view-in-github",
        "colab_type": "text"
      },
      "source": [
        "<a href=\"https://colab.research.google.com/github/watashi-wa-aditya/Neural-Networks-for-MNIST-Dataset/blob/main/Fashion_Dataset%2C_Basics_of_Neural_Networks.ipynb\" target=\"_parent\"><img src=\"https://colab.research.google.com/assets/colab-badge.svg\" alt=\"Open In Colab\"/></a>"
      ]
    },
    {
      "cell_type": "markdown",
      "metadata": {
        "id": "rJ2_IxSDgEhy"
      },
      "source": [
        "**The Notebook deals with the MNIST Fashion dataset which includes various clothing items in reduced pixel form. We develop a simple Neural Network to identify the clothing item by feeding the picture with same pixel form. In this notebook the prediction is done by dividing the dataset into Train and Test dataset. Test dataset is not used at all for training the Neural Networks so, the pictures predicted using Test dataset is completely new to the Neural Networks.**"
      ]
    },
    {
      "cell_type": "code",
      "metadata": {
        "id": "Dw6kYDecebQ2"
      },
      "source": [
        "import numpy as np\n",
        "import pandas as pd\n",
        "import matplotlib.pyplot as plt"
      ],
      "execution_count": null,
      "outputs": []
    },
    {
      "cell_type": "code",
      "metadata": {
        "id": "xNoJhZy43Or5"
      },
      "source": [
        "import tensorflow as tf\n",
        "from tensorflow import keras"
      ],
      "execution_count": null,
      "outputs": []
    },
    {
      "cell_type": "code",
      "metadata": {
        "colab": {
          "base_uri": "https://localhost:8080/",
          "height": 36
        },
        "id": "JecAGarj3WIf",
        "outputId": "35a1a5a3-17cf-4102-9464-f46082beb397"
      },
      "source": [
        "tf.__version__"
      ],
      "execution_count": null,
      "outputs": [
        {
          "output_type": "execute_result",
          "data": {
            "application/vnd.google.colaboratory.intrinsic+json": {
              "type": "string"
            },
            "text/plain": [
              "'2.5.0'"
            ]
          },
          "metadata": {
            "tags": []
          },
          "execution_count": 45
        }
      ]
    },
    {
      "cell_type": "code",
      "metadata": {
        "colab": {
          "base_uri": "https://localhost:8080/",
          "height": 36
        },
        "id": "DfmPztL03acP",
        "outputId": "120dab33-6122-4bf3-c04c-210f006923b9"
      },
      "source": [
        "keras.__version__"
      ],
      "execution_count": null,
      "outputs": [
        {
          "output_type": "execute_result",
          "data": {
            "application/vnd.google.colaboratory.intrinsic+json": {
              "type": "string"
            },
            "text/plain": [
              "'2.5.0'"
            ]
          },
          "metadata": {
            "tags": []
          },
          "execution_count": 46
        }
      ]
    },
    {
      "cell_type": "markdown",
      "metadata": {
        "id": "PIOE7EAZf6OB"
      },
      "source": [
        "**Importing MNIST Fashion Dataset**"
      ]
    },
    {
      "cell_type": "code",
      "metadata": {
        "id": "6WEGNCrl3mB5"
      },
      "source": [
        "fashion_mnist = keras.datasets.fashion_mnist"
      ],
      "execution_count": null,
      "outputs": []
    },
    {
      "cell_type": "code",
      "metadata": {
        "id": "dQThL2is360X"
      },
      "source": [
        "(X_train_full, y_train_full), (X_test, y_test) = fashion_mnist.load_data()"
      ],
      "execution_count": null,
      "outputs": []
    },
    {
      "cell_type": "code",
      "metadata": {
        "colab": {
          "base_uri": "https://localhost:8080/"
        },
        "id": "lWxAiBlE4cIQ",
        "outputId": "8807a8d5-4e2b-4aad-8a9a-c29fca909e63"
      },
      "source": [
        "X_train_full.shape"
      ],
      "execution_count": null,
      "outputs": [
        {
          "output_type": "execute_result",
          "data": {
            "text/plain": [
              "(60000, 28, 28)"
            ]
          },
          "metadata": {
            "tags": []
          },
          "execution_count": 49
        }
      ]
    },
    {
      "cell_type": "markdown",
      "metadata": {
        "id": "9v6RtGZBilRp"
      },
      "source": [
        "=> Image shape: 28 X 28 pixel image, 60000 images"
      ]
    },
    {
      "cell_type": "code",
      "metadata": {
        "colab": {
          "base_uri": "https://localhost:8080/"
        },
        "id": "sM0viPY54l-f",
        "outputId": "ad8265c3-9994-4f26-878a-e534bdfc37dd"
      },
      "source": [
        "X_train_full.dtype"
      ],
      "execution_count": null,
      "outputs": [
        {
          "output_type": "execute_result",
          "data": {
            "text/plain": [
              "dtype('uint8')"
            ]
          },
          "metadata": {
            "tags": []
          },
          "execution_count": 50
        }
      ]
    },
    {
      "cell_type": "code",
      "metadata": {
        "id": "QX6Lef384rF2"
      },
      "source": [
        "X_valid, X_train = X_train_full[:5000] / 255., X_train_full[5000:] / 255.\n",
        "y_valid, y_train = y_train_full[:5000], y_train_full[5000:]\n",
        "X_test = X_test / 255."
      ],
      "execution_count": null,
      "outputs": []
    },
    {
      "cell_type": "markdown",
      "metadata": {
        "id": "dtGBBorTitlx"
      },
      "source": [
        "Providing class names.(The class names are provided with the documentary of dataset)"
      ]
    },
    {
      "cell_type": "code",
      "metadata": {
        "id": "1rGnBFFg9EVm"
      },
      "source": [
        "class_names = [\"T-shirt/top\", \"Trouser\", \"Pullover\", \"Dress\", \"Coat\",\n",
        "               \"Sandal\", \"Shirt\", \"Sneaker\", \"Bag\", \"Ankle boot\"]"
      ],
      "execution_count": null,
      "outputs": []
    },
    {
      "cell_type": "code",
      "metadata": {
        "colab": {
          "base_uri": "https://localhost:8080/"
        },
        "id": "gCe2tZ9M9POF",
        "outputId": "3614f40e-56c9-4fc4-daad-672a8f9dcf3e"
      },
      "source": [
        "y_train"
      ],
      "execution_count": null,
      "outputs": [
        {
          "output_type": "execute_result",
          "data": {
            "text/plain": [
              "array([4, 0, 7, ..., 3, 0, 5], dtype=uint8)"
            ]
          },
          "metadata": {
            "tags": []
          },
          "execution_count": 53
        }
      ]
    },
    {
      "cell_type": "code",
      "metadata": {
        "colab": {
          "base_uri": "https://localhost:8080/",
          "height": 269
        },
        "id": "Nk5Z71I49gM1",
        "outputId": "a9bef437-3aa6-42f0-ff40-5f94b1038e81"
      },
      "source": [
        "index= 1\n",
        "plt.imshow(X_train[index], cmap= \"binary\")\n",
        "plt.axis(\"off\")\n",
        "plt.title(class_names[y_train[index]], fontsize=20)\n",
        "plt.show()"
      ],
      "execution_count": null,
      "outputs": [
        {
          "output_type": "display_data",
          "data": {
            "image/png": "[encoded data removed]",
            "text/plain": [
              "<Figure size 432x288 with 1 Axes>"
            ]
          },
          "metadata": {
            "tags": [],
            "needs_background": "light"
          }
        }
      ]
    },
    {
      "cell_type": "markdown",
      "metadata": {
        "id": "rc-EUJpJfjP7"
      },
      "source": [
        "**Making of Neural Networks**"
      ]
    },
    {
      "cell_type": "code",
      "metadata": {
        "id": "OLX1gIo1Dc7b"
      },
      "source": [
        "model = keras.models.Sequential([\n",
        "                                  keras.layers.Flatten(input_shape=[28, 28]),\n",
        "                                  keras.layers.Dense(300, activation=\"relu\"),\n",
        "                                  keras.layers.Dense(100, activation=\"relu\"),\n",
        "                                  keras.layers.Dense(10, activation=\"softmax\")\n",
        "])"
      ],
      "execution_count": null,
      "outputs": []
    },
    {
      "cell_type": "code",
      "metadata": {
        "colab": {
          "base_uri": "https://localhost:8080/"
        },
        "id": "bmrmKuVVDw0a",
        "outputId": "9a07f9fb-2237-4833-9212-e3825bd8ae31"
      },
      "source": [
        "model.layers"
      ],
      "execution_count": null,
      "outputs": [
        {
          "output_type": "execute_result",
          "data": {
            "text/plain": [
              "[<tensorflow.python.keras.layers.core.Flatten at 0x7f4a46323510>,\n",
              " <tensorflow.python.keras.layers.core.Dense at 0x7f4a46323490>,\n",
              " <tensorflow.python.keras.layers.core.Dense at 0x7f4a46358b10>,\n",
              " <tensorflow.python.keras.layers.core.Dense at 0x7f4a46353510>]"
            ]
          },
          "metadata": {
            "tags": []
          },
          "execution_count": 56
        }
      ]
    },
    {
      "cell_type": "code",
      "metadata": {
        "colab": {
          "base_uri": "https://localhost:8080/"
        },
        "id": "fUE415z6D48D",
        "outputId": "6717a748-10a5-4f5b-de2f-fbd706a96e80"
      },
      "source": [
        "model.summary()"
      ],
      "execution_count": null,
      "outputs": [
        {
          "output_type": "stream",
          "text": [
            "Model: \"sequential_1\"\n",
            "_________________________________________________________________\n",
            "Layer (type)                 Output Shape              Param #   \n",
            "=================================================================\n",
            "flatten_1 (Flatten)          (None, 784)               0         \n",
            "_________________________________________________________________\n",
            "dense_3 (Dense)              (None, 300)               235500    \n",
            "_________________________________________________________________\n",
            "dense_4 (Dense)              (None, 100)               30100     \n",
            "_________________________________________________________________\n",
            "dense_5 (Dense)              (None, 10)                1010      \n",
            "=================================================================\n",
            "Total params: 266,610\n",
            "Trainable params: 266,610\n",
            "Non-trainable params: 0\n",
            "_________________________________________________________________\n"
          ],
          "name": "stdout"
        }
      ]
    },
    {
      "cell_type": "code",
      "metadata": {
        "id": "2dGpdE4lEKCL"
      },
      "source": [
        "model.compile(loss=\"sparse_categorical_crossentropy\",\n",
        "              optimizer=\"sgd\",\n",
        "              metrics=[\"accuracy\"])"
      ],
      "execution_count": null,
      "outputs": []
    },
    {
      "cell_type": "markdown",
      "metadata": {
        "id": "RXxH3e0vfVSR"
      },
      "source": [
        "Training of Neural Networks"
      ]
    },
    {
      "cell_type": "code",
      "metadata": {
        "colab": {
          "base_uri": "https://localhost:8080/"
        },
        "id": "LCB7cRiAa4D0",
        "outputId": "f2b3f72d-80eb-4520-d496-349a0aee4edf"
      },
      "source": [
        "history = model.fit(X_train, y_train, epochs=30,\n",
        "                    validation_data=(X_valid, y_valid))"
      ],
      "execution_count": null,
      "outputs": [
        {
          "output_type": "stream",
          "text": [
            "Epoch 1/30\n",
            "1719/1719 [==============================] - 5s 3ms/step - loss: 0.7013 - accuracy: 0.7691 - val_loss: 0.5177 - val_accuracy: 0.8202\n",
            "Epoch 2/30\n",
            "1719/1719 [==============================] - 4s 3ms/step - loss: 0.4860 - accuracy: 0.8296 - val_loss: 0.4348 - val_accuracy: 0.8506\n",
            "Epoch 3/30\n",
            "1719/1719 [==============================] - 4s 2ms/step - loss: 0.4430 - accuracy: 0.8437 - val_loss: 0.5402 - val_accuracy: 0.7976\n",
            "Epoch 4/30\n",
            "1719/1719 [==============================] - 4s 2ms/step - loss: 0.4166 - accuracy: 0.8546 - val_loss: 0.3958 - val_accuracy: 0.8640\n",
            "Epoch 5/30\n",
            "1719/1719 [==============================] - 4s 2ms/step - loss: 0.3981 - accuracy: 0.8613 - val_loss: 0.3795 - val_accuracy: 0.8668\n",
            "Epoch 6/30\n",
            "1719/1719 [==============================] - 4s 2ms/step - loss: 0.3792 - accuracy: 0.8663 - val_loss: 0.3724 - val_accuracy: 0.8706\n",
            "Epoch 7/30\n",
            "1719/1719 [==============================] - 4s 2ms/step - loss: 0.3668 - accuracy: 0.8717 - val_loss: 0.3626 - val_accuracy: 0.8760\n",
            "Epoch 8/30\n",
            "1719/1719 [==============================] - 4s 3ms/step - loss: 0.3554 - accuracy: 0.8746 - val_loss: 0.3938 - val_accuracy: 0.8594\n",
            "Epoch 9/30\n",
            "1719/1719 [==============================] - 4s 2ms/step - loss: 0.3447 - accuracy: 0.8789 - val_loss: 0.3554 - val_accuracy: 0.8720\n",
            "Epoch 10/30\n",
            "1719/1719 [==============================] - 4s 2ms/step - loss: 0.3358 - accuracy: 0.8807 - val_loss: 0.3503 - val_accuracy: 0.8746\n",
            "Epoch 11/30\n",
            "1719/1719 [==============================] - 4s 3ms/step - loss: 0.3272 - accuracy: 0.8836 - val_loss: 0.3426 - val_accuracy: 0.8748\n",
            "Epoch 12/30\n",
            "1719/1719 [==============================] - 4s 2ms/step - loss: 0.3177 - accuracy: 0.8861 - val_loss: 0.3355 - val_accuracy: 0.8802\n",
            "Epoch 13/30\n",
            "1719/1719 [==============================] - 4s 3ms/step - loss: 0.3107 - accuracy: 0.8886 - val_loss: 0.3302 - val_accuracy: 0.8852\n",
            "Epoch 14/30\n",
            "1719/1719 [==============================] - 4s 3ms/step - loss: 0.3048 - accuracy: 0.8909 - val_loss: 0.3474 - val_accuracy: 0.8738\n",
            "Epoch 15/30\n",
            "1719/1719 [==============================] - 4s 2ms/step - loss: 0.2970 - accuracy: 0.8934 - val_loss: 0.3294 - val_accuracy: 0.8820\n",
            "Epoch 16/30\n",
            "1719/1719 [==============================] - 4s 3ms/step - loss: 0.2921 - accuracy: 0.8956 - val_loss: 0.3113 - val_accuracy: 0.8846\n",
            "Epoch 17/30\n",
            "1719/1719 [==============================] - 4s 2ms/step - loss: 0.2869 - accuracy: 0.8969 - val_loss: 0.3586 - val_accuracy: 0.8716\n",
            "Epoch 18/30\n",
            "1719/1719 [==============================] - 4s 2ms/step - loss: 0.2805 - accuracy: 0.8994 - val_loss: 0.3180 - val_accuracy: 0.8862\n",
            "Epoch 19/30\n",
            "1719/1719 [==============================] - 4s 2ms/step - loss: 0.2758 - accuracy: 0.9011 - val_loss: 0.3166 - val_accuracy: 0.8852\n",
            "Epoch 20/30\n",
            "1719/1719 [==============================] - 4s 2ms/step - loss: 0.2705 - accuracy: 0.9027 - val_loss: 0.3263 - val_accuracy: 0.8836\n",
            "Epoch 21/30\n",
            "1719/1719 [==============================] - 4s 2ms/step - loss: 0.2657 - accuracy: 0.9048 - val_loss: 0.3076 - val_accuracy: 0.8896\n",
            "Epoch 22/30\n",
            "1719/1719 [==============================] - 4s 2ms/step - loss: 0.2609 - accuracy: 0.9068 - val_loss: 0.2980 - val_accuracy: 0.8914\n",
            "Epoch 23/30\n",
            "1719/1719 [==============================] - 4s 2ms/step - loss: 0.2562 - accuracy: 0.9072 - val_loss: 0.3033 - val_accuracy: 0.8894\n",
            "Epoch 24/30\n",
            "1719/1719 [==============================] - 4s 2ms/step - loss: 0.2521 - accuracy: 0.9092 - val_loss: 0.3111 - val_accuracy: 0.8854\n",
            "Epoch 25/30\n",
            "1719/1719 [==============================] - 4s 3ms/step - loss: 0.2481 - accuracy: 0.9102 - val_loss: 0.3012 - val_accuracy: 0.8912\n",
            "Epoch 26/30\n",
            "1719/1719 [==============================] - 4s 3ms/step - loss: 0.2437 - accuracy: 0.9127 - val_loss: 0.3039 - val_accuracy: 0.8896\n",
            "Epoch 27/30\n",
            "1719/1719 [==============================] - 4s 2ms/step - loss: 0.2402 - accuracy: 0.9144 - val_loss: 0.3042 - val_accuracy: 0.8936\n",
            "Epoch 28/30\n",
            "1719/1719 [==============================] - 4s 3ms/step - loss: 0.2364 - accuracy: 0.9157 - val_loss: 0.3014 - val_accuracy: 0.8912\n",
            "Epoch 29/30\n",
            "1719/1719 [==============================] - 4s 3ms/step - loss: 0.2325 - accuracy: 0.9168 - val_loss: 0.3096 - val_accuracy: 0.8848\n",
            "Epoch 30/30\n",
            "1719/1719 [==============================] - 4s 3ms/step - loss: 0.2289 - accuracy: 0.9179 - val_loss: 0.3061 - val_accuracy: 0.8882\n"
          ],
          "name": "stdout"
        }
      ]
    },
    {
      "cell_type": "code",
      "metadata": {
        "colab": {
          "base_uri": "https://localhost:8080/"
        },
        "id": "mu49tacVb0ua",
        "outputId": "2354a5c9-2463-400a-89f2-5e6f30b5482e"
      },
      "source": [
        "history.params"
      ],
      "execution_count": null,
      "outputs": [
        {
          "output_type": "execute_result",
          "data": {
            "text/plain": [
              "{'epochs': 30, 'steps': 1719, 'verbose': 1}"
            ]
          },
          "metadata": {
            "tags": []
          },
          "execution_count": 60
        }
      ]
    },
    {
      "cell_type": "code",
      "metadata": {
        "colab": {
          "base_uri": "https://localhost:8080/"
        },
        "id": "94m4g6j9cAfJ",
        "outputId": "17e94dbb-fb65-4e62-cdf4-030855190fe4"
      },
      "source": [
        "print(history.epoch)"
      ],
      "execution_count": null,
      "outputs": [
        {
          "output_type": "stream",
          "text": [
            "[0, 1, 2, 3, 4, 5, 6, 7, 8, 9, 10, 11, 12, 13, 14, 15, 16, 17, 18, 19, 20, 21, 22, 23, 24, 25, 26, 27, 28, 29]\n"
          ],
          "name": "stdout"
        }
      ]
    },
    {
      "cell_type": "code",
      "metadata": {
        "id": "k6sJl2trcMXb",
        "colab": {
          "base_uri": "https://localhost:8080/"
        },
        "outputId": "18e1c177-b9d7-4a0c-bcce-72ea333be3c0"
      },
      "source": [
        "history.history.keys()"
      ],
      "execution_count": null,
      "outputs": [
        {
          "output_type": "execute_result",
          "data": {
            "text/plain": [
              "dict_keys(['loss', 'accuracy', 'val_loss', 'val_accuracy'])"
            ]
          },
          "metadata": {
            "tags": []
          },
          "execution_count": 62
        }
      ]
    },
    {
      "cell_type": "code",
      "metadata": {
        "colab": {
          "base_uri": "https://localhost:8080/",
          "height": 324
        },
        "id": "nuFddNkyWS4q",
        "outputId": "4d1b38bd-5182-4988-ae15-0693910d1ab8"
      },
      "source": [
        "pd.DataFrame(history.history).plot(figsize=(8, 5))\n",
        "plt.grid(True)\n",
        "plt.axis([0,30,0.0,1.0])\n",
        "plt.show()"
      ],
      "execution_count": null,
      "outputs": [
        {
          "output_type": "display_data",
          "data": {
            "image/png": "[encoded data removed]",
            "text/plain": [
              "<Figure size 576x360 with 1 Axes>"
            ]
          },
          "metadata": {
            "tags": [],
            "needs_background": "light"
          }
        }
      ]
    },
    {
      "cell_type": "code",
      "metadata": {
        "colab": {
          "base_uri": "https://localhost:8080/"
        },
        "id": "z0SffK8uYN5h",
        "outputId": "657d455c-98cc-475d-d6f2-ce16c930cec9"
      },
      "source": [
        "model.evaluate(X_test, y_test)"
      ],
      "execution_count": null,
      "outputs": [
        {
          "output_type": "stream",
          "text": [
            "313/313 [==============================] - 0s 1ms/step - loss: 0.3401 - accuracy: 0.8786\n"
          ],
          "name": "stdout"
        },
        {
          "output_type": "execute_result",
          "data": {
            "text/plain": [
              "[0.34014463424682617, 0.878600001335144]"
            ]
          },
          "metadata": {
            "tags": []
          },
          "execution_count": 64
        }
      ]
    },
    {
      "cell_type": "markdown",
      "metadata": {
        "id": "KkWGJMTxfNjj"
      },
      "source": [
        "**Predicting value and class**"
      ]
    },
    {
      "cell_type": "code",
      "metadata": {
        "colab": {
          "base_uri": "https://localhost:8080/"
        },
        "id": "VlV5cooeZSex",
        "outputId": "7c29e07d-405c-4df6-da74-bf539b6bc68d"
      },
      "source": [
        "X_new = X_test[:3]\n",
        "y_proba = model.predict(X_new)\n",
        "y_proba.round(2)"
      ],
      "execution_count": null,
      "outputs": [
        {
          "output_type": "execute_result",
          "data": {
            "text/plain": [
              "array([[0.  , 0.  , 0.  , 0.  , 0.  , 0.02, 0.  , 0.02, 0.  , 0.96],\n",
              "       [0.  , 0.  , 1.  , 0.  , 0.  , 0.  , 0.  , 0.  , 0.  , 0.  ],\n",
              "       [0.  , 1.  , 0.  , 0.  , 0.  , 0.  , 0.  , 0.  , 0.  , 0.  ]],\n",
              "      dtype=float32)"
            ]
          },
          "metadata": {
            "tags": []
          },
          "execution_count": 65
        }
      ]
    },
    {
      "cell_type": "code",
      "metadata": {
        "colab": {
          "base_uri": "https://localhost:8080/"
        },
        "id": "QNwqXiEUeldr",
        "outputId": "56c04787-316d-4230-b45e-1b1f66e8f137"
      },
      "source": [
        "y_pred = np.argmax(model.predict(X_new), axis=-1)\n",
        "y_pred"
      ],
      "execution_count": null,
      "outputs": [
        {
          "output_type": "execute_result",
          "data": {
            "text/plain": [
              "array([9, 2, 1])"
            ]
          },
          "metadata": {
            "tags": []
          },
          "execution_count": 66
        }
      ]
    },
    {
      "cell_type": "code",
      "metadata": {
        "colab": {
          "base_uri": "https://localhost:8080/"
        },
        "id": "mIMoCVH2eqz1",
        "outputId": "bc8c19cd-d7ae-461a-f7ab-772c758bc06c"
      },
      "source": [
        "np.array(class_names)[y_pred]"
      ],
      "execution_count": null,
      "outputs": [
        {
          "output_type": "execute_result",
          "data": {
            "text/plain": [
              "array(['Ankle boot', 'Pullover', 'Trouser'], dtype='<U11')"
            ]
          },
          "metadata": {
            "tags": []
          },
          "execution_count": 67
        }
      ]
    },
    {
      "cell_type": "code",
      "metadata": {
        "colab": {
          "base_uri": "https://localhost:8080/"
        },
        "id": "t--WamwQevNS",
        "outputId": "ee5fd24e-4bd0-45fa-e14c-ff016842523c"
      },
      "source": [
        "y_new = y_test[:3]\n",
        "y_new"
      ],
      "execution_count": null,
      "outputs": [
        {
          "output_type": "execute_result",
          "data": {
            "text/plain": [
              "array([9, 2, 1], dtype=uint8)"
            ]
          },
          "metadata": {
            "tags": []
          },
          "execution_count": 68
        }
      ]
    },
    {
      "cell_type": "markdown",
      "metadata": {
        "id": "3fg4YmT5e_Oi"
      },
      "source": [
        "**Showing pictures of predicted class**"
      ]
    },
    {
      "cell_type": "code",
      "metadata": {
        "colab": {
          "base_uri": "https://localhost:8080/",
          "height": 193
        },
        "id": "Oz8FOEVPewLa",
        "outputId": "e313ebb2-9770-46bd-8c9c-55860733f0cb"
      },
      "source": [
        "plt.figure(figsize=(9, 5))\n",
        "for index, image in enumerate(X_new):\n",
        "    plt.subplot(1, 3, index + 1)\n",
        "    plt.imshow(image)\n",
        "    plt.axis('off')\n",
        "    plt.title(class_names[y_test[index]], fontsize=10)\n",
        "plt.subplots_adjust(wspace=0.2, hspace=0.5)\n",
        "plt.show()"
      ],
      "execution_count": null,
      "outputs": [
        {
          "output_type": "display_data",
          "data": {
            "image/png": "[encoded data removed]",
            "text/plain": [
              "<Figure size 648x360 with 3 Axes>"
            ]
          },
          "metadata": {
            "tags": [],
            "needs_background": "light"
          }
        }
      ]
    }
  ]
}